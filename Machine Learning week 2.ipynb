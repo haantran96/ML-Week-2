{
 "cells": [
  {
   "cell_type": "code",
   "execution_count": 58,
   "metadata": {},
   "outputs": [],
   "source": [
    "import pandas as pd\n",
    "import numpy as np\n",
    "from sklearn import preprocessing, cross_validation, neighbors, metrics, svm\n",
    "from sklearn.svm import SVC\n",
    "from sklearn.linear_model import LogisticRegression\n",
    "from sklearn.ensemble import RandomForestClassifier\n",
    "\n",
    "songs_dataset = pd.read_json('MasterSongList.json')"
   ]
  },
  {
   "cell_type": "code",
   "execution_count": 4,
   "metadata": {},
   "outputs": [],
   "source": [
    "songs_dataset.loc[:,'genres'] = songs_dataset['genres'].apply(''.join)\n",
    "def consolidateGenre(genre):\n",
    "    if len(genre)>0:\n",
    "        return genre.split(':')[0]\n",
    "    else: return genre\n",
    "\n",
    "songs_dataset.loc[:, 'genres'] = songs_dataset['genres'].apply(consolidateGenre)"
   ]
  },
  {
   "cell_type": "code",
   "execution_count": 6,
   "metadata": {
    "scrolled": false
   },
   "outputs": [
    {
     "data": {
      "text/html": [
       "<div>\n",
       "<table border=\"1\" class=\"dataframe\">\n",
       "  <thead>\n",
       "    <tr style=\"text-align: right;\">\n",
       "      <th></th>\n",
       "      <th>key</th>\n",
       "      <th>energy</th>\n",
       "      <th>liveliness</th>\n",
       "      <th>tempo</th>\n",
       "      <th>speechiness</th>\n",
       "      <th>acousticness</th>\n",
       "      <th>instrumentalness</th>\n",
       "      <th>time_signature</th>\n",
       "      <th>duration</th>\n",
       "      <th>loudness</th>\n",
       "      <th>valence</th>\n",
       "      <th>danceability</th>\n",
       "      <th>mode</th>\n",
       "      <th>time_signature_confidence</th>\n",
       "      <th>tempo_confidence</th>\n",
       "      <th>key_confidence</th>\n",
       "      <th>mode_confidence</th>\n",
       "      <th>genres</th>\n",
       "    </tr>\n",
       "  </thead>\n",
       "  <tbody>\n",
       "    <tr>\n",
       "      <th>0</th>\n",
       "      <td>11.0</td>\n",
       "      <td>0.912744</td>\n",
       "      <td>0.083704</td>\n",
       "      <td>132.069</td>\n",
       "      <td>0.293137</td>\n",
       "      <td>0.005423</td>\n",
       "      <td>0.000001</td>\n",
       "      <td>0.0</td>\n",
       "      <td>4.0</td>\n",
       "      <td>218.30667</td>\n",
       "      <td>-3.890</td>\n",
       "      <td>0.752186</td>\n",
       "      <td>0.726920</td>\n",
       "      <td>0.552</td>\n",
       "      <td>0.541</td>\n",
       "      <td>1.000</td>\n",
       "      <td>1.000</td>\n",
       "      <td>pop</td>\n",
       "    </tr>\n",
       "    <tr>\n",
       "      <th>1</th>\n",
       "      <td>6.0</td>\n",
       "      <td>0.745704</td>\n",
       "      <td>0.119955</td>\n",
       "      <td>100.008</td>\n",
       "      <td>0.046255</td>\n",
       "      <td>0.026230</td>\n",
       "      <td>0.012727</td>\n",
       "      <td>1.0</td>\n",
       "      <td>4.0</td>\n",
       "      <td>235.06086</td>\n",
       "      <td>-7.687</td>\n",
       "      <td>0.351282</td>\n",
       "      <td>0.691817</td>\n",
       "      <td>0.737</td>\n",
       "      <td>0.634</td>\n",
       "      <td>0.796</td>\n",
       "      <td>1.000</td>\n",
       "      <td>pop</td>\n",
       "    </tr>\n",
       "    <tr>\n",
       "      <th>2</th>\n",
       "      <td>5.0</td>\n",
       "      <td>0.709932</td>\n",
       "      <td>0.231455</td>\n",
       "      <td>130.030</td>\n",
       "      <td>0.121741</td>\n",
       "      <td>0.036662</td>\n",
       "      <td>0.000000</td>\n",
       "      <td>0.0</td>\n",
       "      <td>4.0</td>\n",
       "      <td>232.46104</td>\n",
       "      <td>-5.150</td>\n",
       "      <td>0.374390</td>\n",
       "      <td>0.704729</td>\n",
       "      <td>0.565</td>\n",
       "      <td>0.565</td>\n",
       "      <td>0.743</td>\n",
       "      <td>1.000</td>\n",
       "      <td></td>\n",
       "    </tr>\n",
       "    <tr>\n",
       "      <th>3</th>\n",
       "      <td>3.0</td>\n",
       "      <td>0.705822</td>\n",
       "      <td>0.053292</td>\n",
       "      <td>126.009</td>\n",
       "      <td>0.126016</td>\n",
       "      <td>0.001966</td>\n",
       "      <td>0.000000</td>\n",
       "      <td>0.0</td>\n",
       "      <td>4.0</td>\n",
       "      <td>194.09333</td>\n",
       "      <td>-3.898</td>\n",
       "      <td>0.592798</td>\n",
       "      <td>0.875137</td>\n",
       "      <td>0.004</td>\n",
       "      <td>0.114</td>\n",
       "      <td>1.000</td>\n",
       "      <td>0.742</td>\n",
       "      <td>dance</td>\n",
       "    </tr>\n",
       "    <tr>\n",
       "      <th>4</th>\n",
       "      <td>3.0</td>\n",
       "      <td>0.741757</td>\n",
       "      <td>0.072774</td>\n",
       "      <td>129.985</td>\n",
       "      <td>0.051255</td>\n",
       "      <td>0.096732</td>\n",
       "      <td>0.000474</td>\n",
       "      <td>0.0</td>\n",
       "      <td>4.0</td>\n",
       "      <td>285.42667</td>\n",
       "      <td>-5.860</td>\n",
       "      <td>0.585630</td>\n",
       "      <td>0.730711</td>\n",
       "      <td>0.271</td>\n",
       "      <td>0.324</td>\n",
       "      <td>0.822</td>\n",
       "      <td>1.000</td>\n",
       "      <td>reggaeton</td>\n",
       "    </tr>\n",
       "  </tbody>\n",
       "</table>\n",
       "</div>"
      ],
      "text/plain": [
       "    key    energy  liveliness    tempo  speechiness  acousticness  \\\n",
       "0  11.0  0.912744    0.083704  132.069     0.293137      0.005423   \n",
       "1   6.0  0.745704    0.119955  100.008     0.046255      0.026230   \n",
       "2   5.0  0.709932    0.231455  130.030     0.121741      0.036662   \n",
       "3   3.0  0.705822    0.053292  126.009     0.126016      0.001966   \n",
       "4   3.0  0.741757    0.072774  129.985     0.051255      0.096732   \n",
       "\n",
       "   instrumentalness  time_signature  duration   loudness  valence  \\\n",
       "0          0.000001             0.0       4.0  218.30667   -3.890   \n",
       "1          0.012727             1.0       4.0  235.06086   -7.687   \n",
       "2          0.000000             0.0       4.0  232.46104   -5.150   \n",
       "3          0.000000             0.0       4.0  194.09333   -3.898   \n",
       "4          0.000474             0.0       4.0  285.42667   -5.860   \n",
       "\n",
       "   danceability      mode  time_signature_confidence  tempo_confidence  \\\n",
       "0      0.752186  0.726920                      0.552             0.541   \n",
       "1      0.351282  0.691817                      0.737             0.634   \n",
       "2      0.374390  0.704729                      0.565             0.565   \n",
       "3      0.592798  0.875137                      0.004             0.114   \n",
       "4      0.585630  0.730711                      0.271             0.324   \n",
       "\n",
       "   key_confidence  mode_confidence     genres  \n",
       "0           1.000            1.000        pop  \n",
       "1           0.796            1.000        pop  \n",
       "2           0.743            1.000             \n",
       "3           1.000            0.742      dance  \n",
       "4           0.822            1.000  reggaeton  "
      ]
     },
     "execution_count": 6,
     "metadata": {},
     "output_type": "execute_result"
    }
   ],
   "source": [
    "audio_feature_list = [audio_feature for audio_feature in songs_dataset['audio_features']]\n",
    "audio_features_headers = ['key','energy','liveliness','tempo','speechiness','acousticness','instrumentalness','time_signature'\n",
    "                         ,'duration','loudness','valence','danceability','mode','time_signature_confidence','tempo_confidence'\n",
    "                         ,'key_confidence','mode_confidence']\n",
    "audio_features = pd.DataFrame(audio_feature_list, columns=audio_features_headers)\n",
    "audio_features.loc[:,].dropna(axis=0,how='all',inplace=True)\n",
    "audio_features['genres'] = songs_dataset['genres']\n",
    "audio_features.head()"
   ]
  },
  {
   "cell_type": "code",
   "execution_count": 35,
   "metadata": {
    "scrolled": true
   },
   "outputs": [
    {
     "data": {
      "text/plain": [
       "(6000, 18)"
      ]
     },
     "execution_count": 35,
     "metadata": {},
     "output_type": "execute_result"
    }
   ],
   "source": [
    "rock_1500 = audio_features.loc[audio_features['genres'] == 'rock'].sample(n=1500)\n",
    "rap_1500 = audio_features.loc[audio_features['genres'] == 'rap'].sample(n=1500)\n",
    "jazz_1500 = audio_features.loc[audio_features['genres'] == 'jazz'].sample(n=1500)\n",
    "dance_1500 = audio_features.loc[audio_features['genres'] == 'dance'].sample(n=1500)\n",
    "dataset = pd.concat([rock_1500,rap_1500,jazz_1500,dance_1500], ignore_index=True)\n",
    "dataset = dataset.fillna(dataset.median(),inplace=True)\n",
    "dataset.shape"
   ]
  },
  {
   "cell_type": "code",
   "execution_count": 29,
   "metadata": {
    "scrolled": false
   },
   "outputs": [
    {
     "data": {
      "text/html": [
       "<div>\n",
       "<table border=\"1\" class=\"dataframe\">\n",
       "  <thead>\n",
       "    <tr style=\"text-align: right;\">\n",
       "      <th></th>\n",
       "      <th>key</th>\n",
       "      <th>energy</th>\n",
       "      <th>liveliness</th>\n",
       "      <th>tempo</th>\n",
       "      <th>speechiness</th>\n",
       "      <th>acousticness</th>\n",
       "      <th>instrumentalness</th>\n",
       "      <th>time_signature</th>\n",
       "      <th>duration</th>\n",
       "      <th>loudness</th>\n",
       "      <th>valence</th>\n",
       "      <th>danceability</th>\n",
       "      <th>mode</th>\n",
       "      <th>time_signature_confidence</th>\n",
       "      <th>tempo_confidence</th>\n",
       "      <th>key_confidence</th>\n",
       "      <th>mode_confidence</th>\n",
       "    </tr>\n",
       "  </thead>\n",
       "  <tbody>\n",
       "    <tr>\n",
       "      <th>0</th>\n",
       "      <td>0.0</td>\n",
       "      <td>0.829562</td>\n",
       "      <td>0.326078</td>\n",
       "      <td>144.955</td>\n",
       "      <td>0.031807</td>\n",
       "      <td>0.008758</td>\n",
       "      <td>0.000000</td>\n",
       "      <td>0.0</td>\n",
       "      <td>4.0</td>\n",
       "      <td>143.69333</td>\n",
       "      <td>-5.383</td>\n",
       "      <td>0.836835</td>\n",
       "      <td>0.518001</td>\n",
       "      <td>0.293</td>\n",
       "      <td>0.492</td>\n",
       "      <td>0.795</td>\n",
       "      <td>0.840</td>\n",
       "    </tr>\n",
       "    <tr>\n",
       "      <th>1</th>\n",
       "      <td>11.0</td>\n",
       "      <td>0.885721</td>\n",
       "      <td>0.347490</td>\n",
       "      <td>163.245</td>\n",
       "      <td>0.069079</td>\n",
       "      <td>0.160855</td>\n",
       "      <td>0.017547</td>\n",
       "      <td>0.0</td>\n",
       "      <td>4.0</td>\n",
       "      <td>295.80000</td>\n",
       "      <td>-10.937</td>\n",
       "      <td>0.279321</td>\n",
       "      <td>0.286817</td>\n",
       "      <td>0.569</td>\n",
       "      <td>0.564</td>\n",
       "      <td>0.450</td>\n",
       "      <td>1.000</td>\n",
       "    </tr>\n",
       "    <tr>\n",
       "      <th>2</th>\n",
       "      <td>9.0</td>\n",
       "      <td>0.890157</td>\n",
       "      <td>0.061336</td>\n",
       "      <td>120.956</td>\n",
       "      <td>0.030632</td>\n",
       "      <td>0.004076</td>\n",
       "      <td>0.003903</td>\n",
       "      <td>1.0</td>\n",
       "      <td>4.0</td>\n",
       "      <td>224.36676</td>\n",
       "      <td>-6.996</td>\n",
       "      <td>0.955193</td>\n",
       "      <td>0.530167</td>\n",
       "      <td>0.561</td>\n",
       "      <td>0.406</td>\n",
       "      <td>0.744</td>\n",
       "      <td>1.000</td>\n",
       "    </tr>\n",
       "    <tr>\n",
       "      <th>3</th>\n",
       "      <td>0.0</td>\n",
       "      <td>0.753911</td>\n",
       "      <td>0.067912</td>\n",
       "      <td>137.545</td>\n",
       "      <td>0.031465</td>\n",
       "      <td>0.001832</td>\n",
       "      <td>0.000000</td>\n",
       "      <td>1.0</td>\n",
       "      <td>4.0</td>\n",
       "      <td>199.62667</td>\n",
       "      <td>-9.386</td>\n",
       "      <td>0.962784</td>\n",
       "      <td>0.577222</td>\n",
       "      <td>1.000</td>\n",
       "      <td>0.661</td>\n",
       "      <td>0.921</td>\n",
       "      <td>0.890</td>\n",
       "    </tr>\n",
       "    <tr>\n",
       "      <th>4</th>\n",
       "      <td>0.0</td>\n",
       "      <td>0.420254</td>\n",
       "      <td>0.154516</td>\n",
       "      <td>134.559</td>\n",
       "      <td>0.052239</td>\n",
       "      <td>0.020613</td>\n",
       "      <td>0.000162</td>\n",
       "      <td>0.0</td>\n",
       "      <td>4.0</td>\n",
       "      <td>169.77333</td>\n",
       "      <td>-12.195</td>\n",
       "      <td>0.422416</td>\n",
       "      <td>0.645729</td>\n",
       "      <td>0.678</td>\n",
       "      <td>0.390</td>\n",
       "      <td>0.715</td>\n",
       "      <td>0.947</td>\n",
       "    </tr>\n",
       "  </tbody>\n",
       "</table>\n",
       "</div>"
      ],
      "text/plain": [
       "    key    energy  liveliness    tempo  speechiness  acousticness  \\\n",
       "0   0.0  0.829562    0.326078  144.955     0.031807      0.008758   \n",
       "1  11.0  0.885721    0.347490  163.245     0.069079      0.160855   \n",
       "2   9.0  0.890157    0.061336  120.956     0.030632      0.004076   \n",
       "3   0.0  0.753911    0.067912  137.545     0.031465      0.001832   \n",
       "4   0.0  0.420254    0.154516  134.559     0.052239      0.020613   \n",
       "\n",
       "   instrumentalness  time_signature  duration   loudness  valence  \\\n",
       "0          0.000000             0.0       4.0  143.69333   -5.383   \n",
       "1          0.017547             0.0       4.0  295.80000  -10.937   \n",
       "2          0.003903             1.0       4.0  224.36676   -6.996   \n",
       "3          0.000000             1.0       4.0  199.62667   -9.386   \n",
       "4          0.000162             0.0       4.0  169.77333  -12.195   \n",
       "\n",
       "   danceability      mode  time_signature_confidence  tempo_confidence  \\\n",
       "0      0.836835  0.518001                      0.293             0.492   \n",
       "1      0.279321  0.286817                      0.569             0.564   \n",
       "2      0.955193  0.530167                      0.561             0.406   \n",
       "3      0.962784  0.577222                      1.000             0.661   \n",
       "4      0.422416  0.645729                      0.678             0.390   \n",
       "\n",
       "   key_confidence  mode_confidence  \n",
       "0           0.795            0.840  \n",
       "1           0.450            1.000  \n",
       "2           0.744            1.000  \n",
       "3           0.921            0.890  \n",
       "4           0.715            0.947  "
      ]
     },
     "execution_count": 29,
     "metadata": {},
     "output_type": "execute_result"
    }
   ],
   "source": [
    "df_features = dataset.drop('genres',axis =1)\n",
    "df_features.head()"
   ]
  },
  {
   "cell_type": "code",
   "execution_count": 30,
   "metadata": {},
   "outputs": [],
   "source": [
    "labels_final = dataset['genres']"
   ]
  },
  {
   "cell_type": "code",
   "execution_count": 32,
   "metadata": {},
   "outputs": [],
   "source": [
    "standard_scaler = preprocessing.StandardScaler()\n",
    "df_features_final = standard_scaler.fit_transform(df_features)"
   ]
  },
  {
   "cell_type": "code",
   "execution_count": 33,
   "metadata": {},
   "outputs": [],
   "source": [
    "X = df_features_final\n",
    "y = labels_final\n",
    "\n",
    "X_train, X_test, y_train, y_test = cross_validation.train_test_split(X,y,test_size=0.3, random_state = 101)"
   ]
  },
  {
   "cell_type": "code",
   "execution_count": 67,
   "metadata": {},
   "outputs": [],
   "source": [
    "names = ['Logistic Regression','SVC','Random Forest']\n",
    "original_classifiers =  [LogisticRegression(solver='saga',multi_class='multinomial'),\n",
    "                        SVC(gamma=2, C=1),\n",
    "                        RandomForestClassifier(n_estimators=5,min_samples_split=2, max_features='log2')]"
   ]
  },
  {
   "cell_type": "code",
   "execution_count": 68,
   "metadata": {},
   "outputs": [
    {
     "name": "stdout",
     "output_type": "stream",
     "text": [
      "Logistic Regression\n",
      "[[338  11  58  48]\n",
      " [ 12 388   6  47]\n",
      " [ 66  19 330  22]\n",
      " [ 32  52  16 355]]\n",
      "             precision    recall  f1-score   support\n",
      "\n",
      "      dance       0.75      0.74      0.75       455\n",
      "       jazz       0.83      0.86      0.84       453\n",
      "        rap       0.80      0.76      0.78       437\n",
      "       rock       0.75      0.78      0.77       455\n",
      "\n",
      "avg / total       0.78      0.78      0.78      1800\n",
      "\n",
      "SVC\n",
      "[[ 91 293  44  27]\n",
      " [  1 446   1   5]\n",
      " [ 11 233 182  11]\n",
      " [ 19 341  10  85]]\n",
      "             precision    recall  f1-score   support\n",
      "\n",
      "      dance       0.75      0.20      0.32       455\n",
      "       jazz       0.34      0.98      0.51       453\n",
      "        rap       0.77      0.42      0.54       437\n",
      "       rock       0.66      0.19      0.29       455\n",
      "\n",
      "avg / total       0.63      0.45      0.41      1800\n",
      "\n",
      "Random Forest\n",
      "[[331  19  57  48]\n",
      " [ 27 375  16  35]\n",
      " [ 64  25 329  19]\n",
      " [ 65  61  28 301]]\n",
      "             precision    recall  f1-score   support\n",
      "\n",
      "      dance       0.68      0.73      0.70       455\n",
      "       jazz       0.78      0.83      0.80       453\n",
      "        rap       0.77      0.75      0.76       437\n",
      "       rock       0.75      0.66      0.70       455\n",
      "\n",
      "avg / total       0.74      0.74      0.74      1800\n",
      "\n"
     ]
    }
   ],
   "source": [
    "for name, clf in zip(names,original_classifiers):\n",
    "    clf.fit(X_train,y_train)\n",
    "    predictions = clf.predict(X_test)\n",
    "    print(name)\n",
    "    print(metrics.confusion_matrix(y_test, predictions))\n",
    "    print(metrics.classification_report(list(y_test),list(predictions)))"
   ]
  },
  {
   "cell_type": "code",
   "execution_count": 82,
   "metadata": {
    "scrolled": true
   },
   "outputs": [
    {
     "name": "stdout",
     "output_type": "stream",
     "text": [
      "{'multi_class': 'ovr', 'solver': 'newton-cg'}\n",
      "{'C': 10, 'gamma': 0.01}\n",
      "{'max_features': 'log2', 'min_samples_split': 4, 'n_estimators': 100}\n"
     ]
    }
   ],
   "source": [
    "from sklearn.model_selection import GridSearchCV\n",
    "from sklearn.pipeline import Pipeline\n",
    "param_grids = [{'solver':['newton-cg', 'sag', 'saga', 'lbfgs'],'multi_class':['ovr', 'multinomial']},\n",
    "              {'C':[0.1,1, 10],'gamma':[1,0.1,0.01,0.001]},\n",
    "              {'n_estimators':[5, 10, 100],'min_samples_split':[2, 3, 4, 5, 10],'max_features':['sqrt', 'log2', 'auto']}]\n",
    "for clf,param_grid in zip(original_classifiers,param_grids):\n",
    "    grid = GridSearchCV(clf,param_grid)\n",
    "    grid.fit(X_train,y_train)\n",
    "    print(grid.best_params_)"
   ]
  },
  {
   "cell_type": "markdown",
   "metadata": {},
   "source": [
    "## SVM"
   ]
  },
  {
   "cell_type": "code",
   "execution_count": 129,
   "metadata": {},
   "outputs": [
    {
     "data": {
      "text/plain": [
       "['key', 'energy', 'liveliness', 'tempo', 'speechiness']"
      ]
     },
     "execution_count": 129,
     "metadata": {},
     "output_type": "execute_result"
    }
   ],
   "source": [
    "from sklearn.feature_selection import SelectKBest,SelectFromModel,RFE\n",
    "clf_svm = SVC(C=10,gamma=0.01)\n",
    "selector_svm = SelectKBest(k=5)\n",
    "X_new = selector_svm.fit_transform(X,y)\n",
    "df_features.columns[selector_svm.get_support(indices=True)].tolist()"
   ]
  },
  {
   "cell_type": "code",
   "execution_count": 133,
   "metadata": {},
   "outputs": [
    {
     "name": "stdout",
     "output_type": "stream",
     "text": [
      "0.723333333333\n"
     ]
    }
   ],
   "source": [
    "X_train, X_test, y_train, y_test = cross_validation.train_test_split(X_new,y,test_size=0.3, random_state = 101)\n",
    "clf_svm.fit(X_train,y_train)\n",
    "prediction = clf_svm.predict(X_test)\n",
    "accuracy = metrics.accuracy_score(y_test,prediction)\n",
    "print(accuracy)"
   ]
  },
  {
   "cell_type": "markdown",
   "metadata": {},
   "source": [
    "## Random Forest - SelectFromModel"
   ]
  },
  {
   "cell_type": "code",
   "execution_count": 158,
   "metadata": {
    "scrolled": true
   },
   "outputs": [
    {
     "name": "stdout",
     "output_type": "stream",
     "text": [
      "Threshold: 0.166356543024\n",
      "Number of features: 4\n",
      "The features are: ['key', 'energy', 'liveliness', 'tempo']\n",
      "Accuracy score: 0.706111111111\n",
      "\n",
      "\n",
      "Threshold: 0.267599398555\n",
      "Number of features: 2\n",
      "The features are: ['energy', 'liveliness']\n",
      "Accuracy score: 0.573333333333\n",
      "\n",
      "\n",
      "Threshold: 0.311821931273\n",
      "Number of features: 1\n",
      "The features are: ['liveliness']\n",
      "Accuracy score: 0.430555555556\n",
      "\n",
      "\n",
      "Threshold: 0.254222127149\n",
      "Number of features: 3\n",
      "The features are: ['energy', 'liveliness', 'tempo']\n",
      "Accuracy score: 0.694444444444\n",
      "\n",
      "\n"
     ]
    }
   ],
   "source": [
    "clf_rf = RandomForestClassifier(n_estimators=5,min_samples_split=2, max_features='log2')\n",
    "clf_rf.fit(X_train,y_train)\n",
    "predictions = clf_rf.predict(X_test)\n",
    "\n",
    "thresholds =  clf_rf.feature_importances_\n",
    "for thresh in thresholds:\n",
    "    selector_rf = SelectFromModel(clf_rf,threshold = thresh,prefit=True)\n",
    "    select_X_train = selector_rf.transform(X_train)\n",
    "    rfc_new = RandomForestClassifier()\n",
    "    rfc_new.fit(select_X_train,y_train)\n",
    "    select_X_test = selector_rf.transform(X_test)\n",
    "    prediction = rfc_new.predict(select_X_test)\n",
    "    accuracy = metrics.accuracy_score(y_test,prediction)\n",
    "    print('Threshold:',thresh)\n",
    "    print('Number of features:',select_X_train.shape[1])\n",
    "    print('The features are:',df_features.columns[selector_rf.get_support(indices=True)].tolist())\n",
    "    print('Accuracy score:',accuracy)\n",
    "    print('\\n')"
   ]
  },
  {
   "cell_type": "markdown",
   "metadata": {},
   "source": [
    "## Random Forest - RFE"
   ]
  },
  {
   "cell_type": "code",
   "execution_count": 167,
   "metadata": {},
   "outputs": [
    {
     "name": "stdout",
     "output_type": "stream",
     "text": [
      "[False  True False  True  True  True False False False False False False\n",
      "  True False False  True False]\n",
      "[10  1  8  1  1  1  2 11 12  4  5  3  1  7  6  1  9]\n"
     ]
    }
   ],
   "source": [
    "from sklearn.feature_selection import RFE\n",
    "rfc = RandomForestClassifier()\n",
    "rfe_model = RFE(rfc,n_features_to_select=6)\n",
    "X = df_features_final\n",
    "y = labels_final\n",
    "\n",
    "X_train, X_test, y_train, y_test = cross_validation.train_test_split(X,y,test_size=0.3, random_state = 101)\n",
    "\n",
    "rfe_model = rfe_model.fit(X_train,y_train)\n",
    "print(rfe_model.support_)\n",
    "print(rfe_model.ranking_)"
   ]
  },
  {
   "cell_type": "code",
   "execution_count": 166,
   "metadata": {},
   "outputs": [
    {
     "name": "stdout",
     "output_type": "stream",
     "text": [
      "0.731666666667\n"
     ]
    }
   ],
   "source": [
    "prediction = rfe_model.predict(X_test)\n",
    "print(metrics.accuracy_score(y_test,prediction))"
   ]
  },
  {
   "cell_type": "code",
   "execution_count": null,
   "metadata": {},
   "outputs": [],
   "source": []
  }
 ],
 "metadata": {
  "kernelspec": {
   "display_name": "Python 3",
   "language": "python",
   "name": "python3"
  },
  "language_info": {
   "codemirror_mode": {
    "name": "ipython",
    "version": 3
   },
   "file_extension": ".py",
   "mimetype": "text/x-python",
   "name": "python",
   "nbconvert_exporter": "python",
   "pygments_lexer": "ipython3",
   "version": "3.6.3"
  }
 },
 "nbformat": 4,
 "nbformat_minor": 2
}
